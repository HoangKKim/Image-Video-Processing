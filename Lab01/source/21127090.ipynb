{
 "cells": [
  {
   "cell_type": "markdown",
   "metadata": {},
   "source": [
    " # <p style = \"text-align: center\"> <b>  XỬ LÝ ẢNH SỐ VÀ VIDEO SỐ - LAB 01 </b>  </p>"
   ]
  },
  {
   "cell_type": "markdown",
   "metadata": {},
   "source": [
    "- Họ tên: Võ Nguyễn Hoàng Kim\n",
    "- MSSV: 21127090"
   ]
  },
  {
   "cell_type": "markdown",
   "metadata": {},
   "source": [
    "## <b> Import các thư viện và cài đặt hàm cần thiết </b>"
   ]
  },
  {
   "cell_type": "code",
   "execution_count": null,
   "metadata": {},
   "outputs": [],
   "source": [
    "# import thư viện\n",
    "import numpy as np\n",
    "import cv2      # cv2 install bản 3.x\n",
    "import matplotlib.pyplot as plt"
   ]
  },
  {
   "cell_type": "code",
   "execution_count": null,
   "metadata": {},
   "outputs": [],
   "source": [
    "# đọc ảnh dưới dạng cường độ xám bằng cv2 với địa chỉ tương đối\n",
    "grayImg = cv2.imread('Lenna.jpg', cv2.IMREAD_GRAYSCALE);\n",
    "\n",
    "# hàm sử dụng để biểu diễn ảnh của 3 kết quả: ban đầu, được tự cài đặt, gọi thư viện\n",
    "def plotToCompare(orgImg, myImg, libImg, t1 = 'Origin', t2 = 'My Algorithm', t3 = 'OPEN CV' ):\n",
    "    plt.figure(figsize=(15, 15))\n",
    "    plt.subplots_adjust(wspace=1)\n",
    "\n",
    "    plt.subplot(1, 3, 1)\n",
    "    plt.title(t1)\n",
    "    plt.imshow(orgImg, cmap='gray')\n",
    "\n",
    "    plt.subplot(1, 3, 2)\n",
    "    plt.title(t2)\n",
    "    plt.imshow(myImg, cmap='gray')\n",
    "\n",
    "    plt.subplot(1, 3, 3)\n",
    "    plt.title(t3)\n",
    "    plt.imshow(libImg, cmap='gray')\n",
    "    plt.show()\n"
   ]
  },
  {
   "cell_type": "markdown",
   "metadata": {},
   "source": [
    "## <b> 1. Color Transformation </b> #"
   ]
  },
  {
   "cell_type": "markdown",
   "metadata": {},
   "source": [
    "- ### Probability Density Function-based mapping - Histogram Equalization  ###"
   ]
  },
  {
   "cell_type": "code",
   "execution_count": null,
   "metadata": {},
   "outputs": [],
   "source": [
    "def probalityDensity(img_gray):\n",
    "    n,m = img_gray.shape\n",
    "    \n",
    "    # Tìm kiếm nG levels (cấp mức xám có trong ảnh)\n",
    "    nG = np.max(img_gray) + 1;\n",
    "\n",
    "    # 1: Khởi tạp mảng H bắt đầu từ 0 có độ dài là nG\n",
    "    hArr = np.zeros(nG, dtype=int);\n",
    "\n",
    "    # 2: Đếm số mức xám của mỗi loại \n",
    "    for i in img_gray:\n",
    "        for j in i:\n",
    "            hArr[j] +=1;\n",
    "\n",
    "    # 3: Lập biểu đồ image histogram, lưu vào T\n",
    "    tArr = [];\n",
    "    tArr.append(hArr[0]);\n",
    "    for i in range(1,nG):\n",
    "        val = tArr[i-1] + hArr[i]\n",
    "        tArr.append(val);\n",
    "\n",
    "    # 4: Chuẩn hóa Tr (Dựng bảng tra cứu T trong khoảng [0, nG-1])\n",
    "    for i in range(0,nG):\n",
    "        tArr[i] = round((nG-1)/(n*m) * tArr[i]);\n",
    "\n",
    "    # 5: Xây dụng ảnh đầu ra\n",
    "    resArr = img_gray.copy()\n",
    "    for i in range(n):\n",
    "        for j in range(m):\n",
    "            val = resArr[i][j];\n",
    "            resArr[i][j] = tArr[val]         \n",
    "    return resArr\n",
    "\n",
    "dst = cv2.equalizeHist(grayImg)\n",
    "\n",
    "pdfImg = probalityDensity(grayImg)\n",
    "\n",
    "# so sánh ảnh gốc, kết quả tự cài đặt, hàm gọi trong thư viện\n",
    "plotToCompare(grayImg, pdfImg, dst, t2 = 'Probability Density Function')"
   ]
  },
  {
   "cell_type": "markdown",
   "metadata": {},
   "source": [
    "- ### Linear mapping - Hàm tuyến tính  ###"
   ]
  },
  {
   "cell_type": "code",
   "execution_count": null,
   "metadata": {},
   "outputs": [],
   "source": [
    "# thay đổi độ sáng\n",
    "def brighnessModify(srcImg, beta):\n",
    "    return np.clip(srcImg + beta, 0, 255).astype('uint8')\n",
    "\n",
    "# thay đổi độ tương phản\n",
    "def contrastModify(alpha, srcImg):\n",
    "    return np.clip((srcImg*alpha), 0, 255).astype('uint')\n",
    "\n",
    "# thay đổi kết hợp độ sáng và tương phản\n",
    "def brightAndContrastModify(alpha, beta, srcImg):\n",
    "    return brighnessModify(contrastModify(srcImg, alpha), beta) \n",
    "\n",
    "# ảnh được tạo từ thuật toán\n",
    "brightAndContImg = brightAndContrastModify(0.3, 20, grayImg)\n",
    "\n",
    "# ảnh được tạo với độ sáng là beta, độ tương phản alpha\n",
    "cvtImg = cv2.convertScaleAbs(grayImg, alpha=0.3, beta=20)\n",
    "\n",
    "# so sánh ảnh gốc, kết quả tự cài đặt, hàm gọi trong thư viện\n",
    "plotToCompare(grayImg, brightAndContImg, cvtImg, t1 = 'Origin', t2 = 'Brightness and Contrast', t3 = 'OpenCV')"
   ]
  },
  {
   "cell_type": "markdown",
   "metadata": {},
   "source": [
    "## <b>2. Geometry Transformation </b> #"
   ]
  },
  {
   "cell_type": "markdown",
   "metadata": {},
   "source": [
    "- ### Linear interpolation  ##"
   ]
  },
  {
   "cell_type": "code",
   "execution_count": null,
   "metadata": {},
   "outputs": [],
   "source": [
    "n,m = grayImg.shape\n",
    "\n",
    "# ảnh sẽ được scale up / down theo chiều fx và fy dựa vào aX và aY\n",
    "aX = 4;\n",
    "aY = 4;\n",
    "gSize = [round(aX*n), round(aY*m)];     # kích thước của ảnh đầu ra được tính từ hệ số trên\n",
    "\n",
    "# Phép biến đổi T-1\n",
    "def calcOrgCord(gX, gY, aX, aY):\n",
    "    return(gX/aX, gY/aY)\n",
    "\n",
    "# interpolation linear\n",
    "def interLinear(fx, fy, grayImg):\n",
    "    gSize = [round(fx*n), round(fy*m)];\n",
    "    gArr = np.zeros((gSize[0], gSize[1]), dtype=int);\n",
    "    \n",
    "    # thay đổi kích thước ảnh trên hệ tọa độ\n",
    "    for i in range(n):\n",
    "        for j in range(m):\n",
    "            x = round(i*fx);\n",
    "            y = round(j*fy);\n",
    "            if(x<gSize[0] and y<gSize[1]):\n",
    "                gArr[x,y] = grayImg[i][j]\n",
    "                \n",
    "    # nội suy giá trị màu cho ảnh g(gX, gY) từ ảnh gốc f(fX, fY)\n",
    "    for gX in range(gArr.shape[0]):     \n",
    "        for gY in range(gArr.shape[1]):\n",
    "            fX, fY = calcOrgCord(gX, gY, aX, aY)\n",
    "            l = round(fX)\n",
    "            k = round(fY)\n",
    "            if(l >= n-1) : l=n-2\n",
    "            if(k >= m-1) : k=n-2\n",
    "            a = fX-l\n",
    "            b = fY-k\n",
    "            gArr[gX][gY] = round((1-a)*(1-b)*grayImg[l][k] + (1-b)*(a)*grayImg[l+1][k] + (1-a)*(b)*grayImg[l][k+1] + a*b*grayImg[l+1][k+1])\n",
    "    return np.clip(gArr, 0, 255).astype('uint8')\n",
    "\n",
    "scaleImg = interLinear(aX, aY, grayImg)\n",
    "\n",
    "# ảnh được tạo từ hàm thư viện với kích thước gSize \n",
    "dst = cv2.resize(grayImg, (gSize[0],gSize[1]), cv2.INTER_LINEAR)\n",
    "\n",
    "# so sánh ảnh gốc, kết quả tự cài đặt, hàm gọi trong thư viện\n",
    "plotToCompare(grayImg, scaleImg, dst ,t2= 'Scale up')    "
   ]
  },
  {
   "cell_type": "markdown",
   "metadata": {},
   "source": [
    "## <b>3. Image Smoothing </b>"
   ]
  },
  {
   "cell_type": "markdown",
   "metadata": {},
   "source": [
    "- ### Gaussian Filter "
   ]
  },
  {
   "cell_type": "code",
   "execution_count": null,
   "metadata": {},
   "outputs": [],
   "source": [
    "# sử dụng kernel với kích thước 3x3\n",
    "GaussianKernel = np.array([[1,2,1],\n",
    "                            [2,4,2],\n",
    "                            [1,2,1]])/16\n",
    "\n",
    "# xây dựng hàm với kích thước kernel cố định: 3X3\n",
    "def gaussFilter(GaussianKernel, img): \n",
    "    blurImg = img.copy() \n",
    "    for i in range (1,img.shape[0]-1):\n",
    "        for j in range (1,img.shape[1]-1):\n",
    "            blurImg[i,j] = (img[i-1: i+2, j-1: j+2].astype('float64')*GaussianKernel).sum()\n",
    "            \n",
    "    return np.clip(blurImg, 0, 255).astype('uint8')\n",
    "\n",
    "gaussImg = gaussFilter(GaussianKernel, grayImg)\n",
    "\n",
    "# ảnh được tạo từ hàm thư viện với kích thước kernel là 3x3\n",
    "Gblur = cv2.GaussianBlur(grayImg,(3,3),0)\n",
    "\n",
    "# so sánh ảnh gốc, kết quả tự cài đặt, hàm gọi trong thư viện\n",
    "plotToCompare(grayImg, gaussImg, Gblur, t2 = 'Gaussian Filter')"
   ]
  },
  {
   "cell_type": "markdown",
   "metadata": {},
   "source": [
    "- ### Average Filter "
   ]
  },
  {
   "cell_type": "code",
   "execution_count": null,
   "metadata": {},
   "outputs": [],
   "source": [
    "# sử dụng filter với kích thước 3x3\n",
    "h = np.array([[1, 1, 1],\n",
    "              [1, 1, 1],\n",
    "              [1, 1, 1]])/9\n",
    "\n",
    "# xây dựng hàm với kích thước filter cố định: 3x3\n",
    "def avgFilter(hFilter, img):\n",
    "    aveImg = img.copy()\n",
    "    \n",
    "    for i in range (1,img.shape[0]-1):\n",
    "        for j in range (1,img.shape[1]-1):\n",
    "            aveImg[i,j] = (img[i-1: i+2, j-1: j+2].astype('float64')*hFilter).sum()\n",
    "    return np.clip(aveImg, 0, 255).astype('uint8')\n",
    "avgImg = avgFilter(h, grayImg)\n",
    "\n",
    "# ảnh được tạo từ hàm thư viện với kích thước filter là 3x3\n",
    "avg = cv2.blur(grayImg, (3,3))\n",
    "\n",
    "# so sánh ảnh gốc, kết quả tự cài đặt, hàm gọi trong thư viện\n",
    "plotToCompare(grayImg, avgImg, avg, t2 = 'Average Filter')\n"
   ]
  },
  {
   "cell_type": "markdown",
   "metadata": {},
   "source": [
    "- ### Median Filter "
   ]
  },
  {
   "cell_type": "code",
   "execution_count": null,
   "metadata": {},
   "outputs": [],
   "source": [
    "# xây dựng hàm với kích thước filter cố định: 3x3\n",
    "def medFilter(grayImg):\n",
    "    medArr = np.copy(grayImg);\n",
    "    \n",
    "    for i in range (1,grayImg.shape[0]-1):\n",
    "        for j in range (1,grayImg.shape[1]-1):\n",
    "            medElement = np.sort(np.array(grayImg[i-1: i+2, j-1: j+2]), axis=None)[4];\n",
    "            medArr[i][j] = medElement;\n",
    "    return medArr\n",
    "medImg = medFilter(grayImg)\n",
    "\n",
    "# ảnh được tạo từ hàm thư viện với kích thước filter là 3x3\n",
    "med = cv2.medianBlur(grayImg, 3);\n",
    "\n",
    "# so sánh ảnh gốc, kết quả tự cài đặt, hàm gọi trong thư viện\n",
    "plotToCompare(grayImg, medImg, med, t2 = 'Median Filter')"
   ]
  }
 ],
 "metadata": {
  "kernelspec": {
   "display_name": ".venv",
   "language": "python",
   "name": "python3"
  },
  "language_info": {
   "codemirror_mode": {
    "name": "ipython",
    "version": 3
   },
   "file_extension": ".py",
   "mimetype": "text/x-python",
   "name": "python",
   "nbconvert_exporter": "python",
   "pygments_lexer": "ipython3",
   "version": "3.8.10"
  }
 },
 "nbformat": 4,
 "nbformat_minor": 2
}
